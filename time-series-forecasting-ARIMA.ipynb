{
 "cells": [
  {
   "cell_type": "code",
   "execution_count": 1,
   "id": "32a921e0",
   "metadata": {},
   "outputs": [],
   "source": [
    "import pandas as pd\n",
    "import numpy as np"
   ]
  },
  {
   "cell_type": "code",
   "execution_count": 2,
   "id": "009fd5cd",
   "metadata": {},
   "outputs": [],
   "source": [
    "df = pd.read_excel('SORA.xlsx')  "
   ]
  },
  {
   "cell_type": "code",
   "execution_count": 3,
   "id": "b0b1cece",
   "metadata": {},
   "outputs": [],
   "source": [
    "df['SORA diff'] = df['SORA'] - df['SORA'].shift(1)"
   ]
  },
  {
   "cell_type": "code",
   "execution_count": 4,
   "id": "cc29122e",
   "metadata": {},
   "outputs": [
    {
     "name": "stdout",
     "output_type": "stream",
     "text": [
      "ADF: -0.46656156504905055\n",
      "p-value: 0.8983782677080311\n"
     ]
    }
   ],
   "source": [
    "from statsmodels.tsa.stattools import adfuller\n",
    "dftest = adfuller(df['SORA'].dropna(), autolag = 'AIC')\n",
    "print(f'ADF: {dftest[0]}')\n",
    "print(f'p-value: {dftest[1]}')"
   ]
  },
  {
   "cell_type": "code",
   "execution_count": 5,
   "id": "d072f74d",
   "metadata": {},
   "outputs": [
    {
     "name": "stdout",
     "output_type": "stream",
     "text": [
      "ADF: -18.26417333447018\n",
      "p-value: 2.327452821879314e-30\n"
     ]
    }
   ],
   "source": [
    "dftest = adfuller(df['SORA diff'].iloc[1:].dropna(), autolag = 'AIC')\n",
    "print(f'ADF: {dftest[0]}')\n",
    "print(f'p-value: {dftest[1]}')"
   ]
  },
  {
   "cell_type": "code",
   "execution_count": 6,
   "id": "6a528cf8",
   "metadata": {},
   "outputs": [],
   "source": [
    "from pmdarima import auto_arima"
   ]
  },
  {
   "cell_type": "code",
   "execution_count": 7,
   "id": "eb521e7a",
   "metadata": {},
   "outputs": [
    {
     "name": "stdout",
     "output_type": "stream",
     "text": [
      "Performing stepwise search to minimize aic\n",
      " ARIMA(2,0,2)(0,0,0)[0] intercept   : AIC=-5257.282, Time=2.39 sec\n",
      " ARIMA(0,0,0)(0,0,0)[0] intercept   : AIC=-4995.398, Time=0.29 sec\n",
      " ARIMA(1,0,0)(0,0,0)[0] intercept   : AIC=-4998.840, Time=0.18 sec\n",
      " ARIMA(0,0,1)(0,0,0)[0] intercept   : AIC=-5000.406, Time=0.29 sec\n",
      " ARIMA(0,0,0)(0,0,0)[0]             : AIC=-4997.365, Time=0.14 sec\n",
      " ARIMA(1,0,2)(0,0,0)[0] intercept   : AIC=-5258.781, Time=2.62 sec\n",
      " ARIMA(0,0,2)(0,0,0)[0] intercept   : AIC=-5076.420, Time=0.59 sec\n",
      " ARIMA(1,0,1)(0,0,0)[0] intercept   : AIC=-5238.609, Time=1.50 sec\n",
      " ARIMA(1,0,3)(0,0,0)[0] intercept   : AIC=-5258.912, Time=2.61 sec\n",
      " ARIMA(0,0,3)(0,0,0)[0] intercept   : AIC=-5192.267, Time=1.06 sec\n",
      " ARIMA(2,0,3)(0,0,0)[0] intercept   : AIC=-5261.139, Time=3.07 sec\n",
      " ARIMA(3,0,3)(0,0,0)[0] intercept   : AIC=-5305.681, Time=3.43 sec\n",
      " ARIMA(3,0,2)(0,0,0)[0] intercept   : AIC=-5257.690, Time=2.12 sec\n",
      " ARIMA(4,0,3)(0,0,0)[0] intercept   : AIC=-5262.883, Time=3.93 sec\n",
      " ARIMA(3,0,4)(0,0,0)[0] intercept   : AIC=inf, Time=4.57 sec\n",
      " ARIMA(2,0,4)(0,0,0)[0] intercept   : AIC=-5213.240, Time=4.36 sec\n",
      " ARIMA(4,0,2)(0,0,0)[0] intercept   : AIC=-5238.188, Time=3.64 sec\n",
      " ARIMA(4,0,4)(0,0,0)[0] intercept   : AIC=-5332.264, Time=5.03 sec\n",
      " ARIMA(5,0,4)(0,0,0)[0] intercept   : AIC=-5308.264, Time=5.20 sec\n",
      " ARIMA(4,0,5)(0,0,0)[0] intercept   : AIC=inf, Time=5.82 sec\n",
      " ARIMA(3,0,5)(0,0,0)[0] intercept   : AIC=-5268.477, Time=5.11 sec\n",
      " ARIMA(5,0,3)(0,0,0)[0] intercept   : AIC=-5271.188, Time=5.00 sec\n",
      " ARIMA(5,0,5)(0,0,0)[0] intercept   : AIC=-5339.767, Time=6.03 sec\n",
      " ARIMA(5,0,5)(0,0,0)[0]             : AIC=-5353.100, Time=2.85 sec\n",
      " ARIMA(4,0,5)(0,0,0)[0]             : AIC=inf, Time=3.15 sec\n",
      " ARIMA(5,0,4)(0,0,0)[0]             : AIC=-5345.177, Time=2.76 sec\n",
      " ARIMA(4,0,4)(0,0,0)[0]             : AIC=-5346.586, Time=2.44 sec\n",
      "\n",
      "Best model:  ARIMA(5,0,5)(0,0,0)[0]          \n",
      "Total fit time: 80.213 seconds\n"
     ]
    },
    {
     "data": {
      "text/html": [
       "<table class=\"simpletable\">\n",
       "<caption>SARIMAX Results</caption>\n",
       "<tr>\n",
       "  <th>Dep. Variable:</th>           <td>y</td>        <th>  No. Observations:  </th>   <td>4539</td>   \n",
       "</tr>\n",
       "<tr>\n",
       "  <th>Model:</th>           <td>SARIMAX(5, 0, 5)</td> <th>  Log Likelihood     </th> <td>2687.550</td> \n",
       "</tr>\n",
       "<tr>\n",
       "  <th>Date:</th>            <td>Wed, 25 Oct 2023</td> <th>  AIC                </th> <td>-5353.100</td>\n",
       "</tr>\n",
       "<tr>\n",
       "  <th>Time:</th>                <td>11:08:26</td>     <th>  BIC                </th> <td>-5282.475</td>\n",
       "</tr>\n",
       "<tr>\n",
       "  <th>Sample:</th>                  <td>0</td>        <th>  HQIC               </th> <td>-5328.225</td>\n",
       "</tr>\n",
       "<tr>\n",
       "  <th></th>                      <td> - 4539</td>     <th>                     </th>     <td> </td>    \n",
       "</tr>\n",
       "<tr>\n",
       "  <th>Covariance Type:</th>        <td>opg</td>       <th>                     </th>     <td> </td>    \n",
       "</tr>\n",
       "</table>\n",
       "<table class=\"simpletable\">\n",
       "<tr>\n",
       "     <td></td>       <th>coef</th>     <th>std err</th>      <th>z</th>      <th>P>|z|</th>  <th>[0.025</th>    <th>0.975]</th>  \n",
       "</tr>\n",
       "<tr>\n",
       "  <th>ar.L1</th>  <td>   -0.2049</td> <td>    0.085</td> <td>   -2.419</td> <td> 0.016</td> <td>   -0.371</td> <td>   -0.039</td>\n",
       "</tr>\n",
       "<tr>\n",
       "  <th>ar.L2</th>  <td>   -0.1722</td> <td>    0.075</td> <td>   -2.304</td> <td> 0.021</td> <td>   -0.319</td> <td>   -0.026</td>\n",
       "</tr>\n",
       "<tr>\n",
       "  <th>ar.L3</th>  <td>   -0.2032</td> <td>    0.076</td> <td>   -2.687</td> <td> 0.007</td> <td>   -0.351</td> <td>   -0.055</td>\n",
       "</tr>\n",
       "<tr>\n",
       "  <th>ar.L4</th>  <td>    0.0710</td> <td>    0.077</td> <td>    0.917</td> <td> 0.359</td> <td>   -0.081</td> <td>    0.223</td>\n",
       "</tr>\n",
       "<tr>\n",
       "  <th>ar.L5</th>  <td>    0.5798</td> <td>    0.062</td> <td>    9.357</td> <td> 0.000</td> <td>    0.458</td> <td>    0.701</td>\n",
       "</tr>\n",
       "<tr>\n",
       "  <th>ma.L1</th>  <td>    0.0903</td> <td>    0.087</td> <td>    1.038</td> <td> 0.299</td> <td>   -0.080</td> <td>    0.261</td>\n",
       "</tr>\n",
       "<tr>\n",
       "  <th>ma.L2</th>  <td>    0.0240</td> <td>    0.082</td> <td>    0.292</td> <td> 0.771</td> <td>   -0.138</td> <td>    0.186</td>\n",
       "</tr>\n",
       "<tr>\n",
       "  <th>ma.L3</th>  <td>    0.0031</td> <td>    0.083</td> <td>    0.037</td> <td> 0.970</td> <td>   -0.159</td> <td>    0.165</td>\n",
       "</tr>\n",
       "<tr>\n",
       "  <th>ma.L4</th>  <td>   -0.2178</td> <td>    0.078</td> <td>   -2.803</td> <td> 0.005</td> <td>   -0.370</td> <td>   -0.066</td>\n",
       "</tr>\n",
       "<tr>\n",
       "  <th>ma.L5</th>  <td>   -0.6129</td> <td>    0.077</td> <td>   -7.988</td> <td> 0.000</td> <td>   -0.763</td> <td>   -0.463</td>\n",
       "</tr>\n",
       "<tr>\n",
       "  <th>sigma2</th> <td>    0.0179</td> <td>    0.000</td> <td>  120.117</td> <td> 0.000</td> <td>    0.018</td> <td>    0.018</td>\n",
       "</tr>\n",
       "</table>\n",
       "<table class=\"simpletable\">\n",
       "<tr>\n",
       "  <th>Ljung-Box (L1) (Q):</th>     <td>2.33</td> <th>  Jarque-Bera (JB):  </th> <td>33474.98</td>\n",
       "</tr>\n",
       "<tr>\n",
       "  <th>Prob(Q):</th>                <td>0.13</td> <th>  Prob(JB):          </th>   <td>0.00</td>  \n",
       "</tr>\n",
       "<tr>\n",
       "  <th>Heteroskedasticity (H):</th> <td>2.17</td> <th>  Skew:              </th>   <td>0.51</td>  \n",
       "</tr>\n",
       "<tr>\n",
       "  <th>Prob(H) (two-sided):</th>    <td>0.00</td> <th>  Kurtosis:          </th>   <td>16.26</td> \n",
       "</tr>\n",
       "</table><br/><br/>Warnings:<br/>[1] Covariance matrix calculated using the outer product of gradients (complex-step)."
      ],
      "text/latex": [
       "\\begin{center}\n",
       "\\begin{tabular}{lclc}\n",
       "\\toprule\n",
       "\\textbf{Dep. Variable:}          &        y         & \\textbf{  No. Observations:  } &    4539     \\\\\n",
       "\\textbf{Model:}                  & SARIMAX(5, 0, 5) & \\textbf{  Log Likelihood     } &  2687.550   \\\\\n",
       "\\textbf{Date:}                   & Wed, 25 Oct 2023 & \\textbf{  AIC                } & -5353.100   \\\\\n",
       "\\textbf{Time:}                   &     11:08:26     & \\textbf{  BIC                } & -5282.475   \\\\\n",
       "\\textbf{Sample:}                 &        0         & \\textbf{  HQIC               } & -5328.225   \\\\\n",
       "\\textbf{}                        &      - 4539      & \\textbf{                     } &             \\\\\n",
       "\\textbf{Covariance Type:}        &       opg        & \\textbf{                     } &             \\\\\n",
       "\\bottomrule\n",
       "\\end{tabular}\n",
       "\\begin{tabular}{lcccccc}\n",
       "                & \\textbf{coef} & \\textbf{std err} & \\textbf{z} & \\textbf{P$> |$z$|$} & \\textbf{[0.025} & \\textbf{0.975]}  \\\\\n",
       "\\midrule\n",
       "\\textbf{ar.L1}  &      -0.2049  &        0.085     &    -2.419  &         0.016        &       -0.371    &       -0.039     \\\\\n",
       "\\textbf{ar.L2}  &      -0.1722  &        0.075     &    -2.304  &         0.021        &       -0.319    &       -0.026     \\\\\n",
       "\\textbf{ar.L3}  &      -0.2032  &        0.076     &    -2.687  &         0.007        &       -0.351    &       -0.055     \\\\\n",
       "\\textbf{ar.L4}  &       0.0710  &        0.077     &     0.917  &         0.359        &       -0.081    &        0.223     \\\\\n",
       "\\textbf{ar.L5}  &       0.5798  &        0.062     &     9.357  &         0.000        &        0.458    &        0.701     \\\\\n",
       "\\textbf{ma.L1}  &       0.0903  &        0.087     &     1.038  &         0.299        &       -0.080    &        0.261     \\\\\n",
       "\\textbf{ma.L2}  &       0.0240  &        0.082     &     0.292  &         0.771        &       -0.138    &        0.186     \\\\\n",
       "\\textbf{ma.L3}  &       0.0031  &        0.083     &     0.037  &         0.970        &       -0.159    &        0.165     \\\\\n",
       "\\textbf{ma.L4}  &      -0.2178  &        0.078     &    -2.803  &         0.005        &       -0.370    &       -0.066     \\\\\n",
       "\\textbf{ma.L5}  &      -0.6129  &        0.077     &    -7.988  &         0.000        &       -0.763    &       -0.463     \\\\\n",
       "\\textbf{sigma2} &       0.0179  &        0.000     &   120.117  &         0.000        &        0.018    &        0.018     \\\\\n",
       "\\bottomrule\n",
       "\\end{tabular}\n",
       "\\begin{tabular}{lclc}\n",
       "\\textbf{Ljung-Box (L1) (Q):}     & 2.33 & \\textbf{  Jarque-Bera (JB):  } & 33474.98  \\\\\n",
       "\\textbf{Prob(Q):}                & 0.13 & \\textbf{  Prob(JB):          } &   0.00    \\\\\n",
       "\\textbf{Heteroskedasticity (H):} & 2.17 & \\textbf{  Skew:              } &   0.51    \\\\\n",
       "\\textbf{Prob(H) (two-sided):}    & 0.00 & \\textbf{  Kurtosis:          } &  16.26    \\\\\n",
       "\\bottomrule\n",
       "\\end{tabular}\n",
       "%\\caption{SARIMAX Results}\n",
       "\\end{center}\n",
       "\n",
       "Warnings: \\newline\n",
       " [1] Covariance matrix calculated using the outer product of gradients (complex-step)."
      ],
      "text/plain": [
       "<class 'statsmodels.iolib.summary.Summary'>\n",
       "\"\"\"\n",
       "                               SARIMAX Results                                \n",
       "==============================================================================\n",
       "Dep. Variable:                      y   No. Observations:                 4539\n",
       "Model:               SARIMAX(5, 0, 5)   Log Likelihood                2687.550\n",
       "Date:                Wed, 25 Oct 2023   AIC                          -5353.100\n",
       "Time:                        11:08:26   BIC                          -5282.475\n",
       "Sample:                             0   HQIC                         -5328.225\n",
       "                               - 4539                                         \n",
       "Covariance Type:                  opg                                         \n",
       "==============================================================================\n",
       "                 coef    std err          z      P>|z|      [0.025      0.975]\n",
       "------------------------------------------------------------------------------\n",
       "ar.L1         -0.2049      0.085     -2.419      0.016      -0.371      -0.039\n",
       "ar.L2         -0.1722      0.075     -2.304      0.021      -0.319      -0.026\n",
       "ar.L3         -0.2032      0.076     -2.687      0.007      -0.351      -0.055\n",
       "ar.L4          0.0710      0.077      0.917      0.359      -0.081       0.223\n",
       "ar.L5          0.5798      0.062      9.357      0.000       0.458       0.701\n",
       "ma.L1          0.0903      0.087      1.038      0.299      -0.080       0.261\n",
       "ma.L2          0.0240      0.082      0.292      0.771      -0.138       0.186\n",
       "ma.L3          0.0031      0.083      0.037      0.970      -0.159       0.165\n",
       "ma.L4         -0.2178      0.078     -2.803      0.005      -0.370      -0.066\n",
       "ma.L5         -0.6129      0.077     -7.988      0.000      -0.763      -0.463\n",
       "sigma2         0.0179      0.000    120.117      0.000       0.018       0.018\n",
       "===================================================================================\n",
       "Ljung-Box (L1) (Q):                   2.33   Jarque-Bera (JB):             33474.98\n",
       "Prob(Q):                              0.13   Prob(JB):                         0.00\n",
       "Heteroskedasticity (H):               2.17   Skew:                             0.51\n",
       "Prob(H) (two-sided):                  0.00   Kurtosis:                        16.26\n",
       "===================================================================================\n",
       "\n",
       "Warnings:\n",
       "[1] Covariance matrix calculated using the outer product of gradients (complex-step).\n",
       "\"\"\""
      ]
     },
     "execution_count": 7,
     "metadata": {},
     "output_type": "execute_result"
    }
   ],
   "source": [
    "stepwise_fit = auto_arima(df['SORA diff'].dropna(), trace=True, suppress_warnings=True)\n",
    "\n",
    "stepwise_fit.summary()"
   ]
  },
  {
   "cell_type": "code",
   "execution_count": 8,
   "id": "e90ae082",
   "metadata": {},
   "outputs": [],
   "source": [
    "from statsmodels.tsa.arima.model import ARIMA"
   ]
  },
  {
   "cell_type": "code",
   "execution_count": 9,
   "id": "6afa7b4c",
   "metadata": {},
   "outputs": [
    {
     "name": "stdout",
     "output_type": "stream",
     "text": [
      "(4833, 4)\n",
      "(3953, 4) (880, 4)\n"
     ]
    }
   ],
   "source": [
    "print(df.shape)\n",
    "train = df.iloc[:-880]\n",
    "test = df.iloc[-880:]\n",
    "print(train.shape, test.shape)"
   ]
  },
  {
   "cell_type": "code",
   "execution_count": 10,
   "id": "b4240698",
   "metadata": {},
   "outputs": [
    {
     "name": "stderr",
     "output_type": "stream",
     "text": [
      "C:\\Users\\chris\\anaconda3\\lib\\site-packages\\statsmodels\\tsa\\statespace\\sarimax.py:966: UserWarning: Non-stationary starting autoregressive parameters found. Using zeros as starting parameters.\n",
      "  warn('Non-stationary starting autoregressive parameters'\n",
      "C:\\Users\\chris\\anaconda3\\lib\\site-packages\\statsmodels\\tsa\\statespace\\sarimax.py:978: UserWarning: Non-invertible starting MA parameters found. Using zeros as starting parameters.\n",
      "  warn('Non-invertible starting MA parameters found.'\n",
      "C:\\Users\\chris\\anaconda3\\lib\\site-packages\\statsmodels\\base\\model.py:607: ConvergenceWarning: Maximum Likelihood optimization failed to converge. Check mle_retvals\n",
      "  warnings.warn(\"Maximum Likelihood optimization failed to \"\n"
     ]
    },
    {
     "data": {
      "text/html": [
       "<table class=\"simpletable\">\n",
       "<caption>SARIMAX Results</caption>\n",
       "<tr>\n",
       "  <th>Dep. Variable:</th>       <td>SORA diff</td>    <th>  No. Observations:  </th>   <td>3953</td>   \n",
       "</tr>\n",
       "<tr>\n",
       "  <th>Model:</th>            <td>ARIMA(5, 0, 5)</td>  <th>  Log Likelihood     </th> <td>2673.697</td> \n",
       "</tr>\n",
       "<tr>\n",
       "  <th>Date:</th>            <td>Wed, 25 Oct 2023</td> <th>  AIC                </th> <td>-5323.393</td>\n",
       "</tr>\n",
       "<tr>\n",
       "  <th>Time:</th>                <td>11:08:31</td>     <th>  BIC                </th> <td>-5248.006</td>\n",
       "</tr>\n",
       "<tr>\n",
       "  <th>Sample:</th>                  <td>0</td>        <th>  HQIC               </th> <td>-5296.654</td>\n",
       "</tr>\n",
       "<tr>\n",
       "  <th></th>                      <td> - 3953</td>     <th>                     </th>     <td> </td>    \n",
       "</tr>\n",
       "<tr>\n",
       "  <th>Covariance Type:</th>        <td>opg</td>       <th>                     </th>     <td> </td>    \n",
       "</tr>\n",
       "</table>\n",
       "<table class=\"simpletable\">\n",
       "<tr>\n",
       "     <td></td>       <th>coef</th>     <th>std err</th>      <th>z</th>      <th>P>|z|</th>  <th>[0.025</th>    <th>0.975]</th>  \n",
       "</tr>\n",
       "<tr>\n",
       "  <th>const</th>  <td>   -0.0004</td> <td>    0.001</td> <td>   -0.811</td> <td> 0.417</td> <td>   -0.001</td> <td>    0.001</td>\n",
       "</tr>\n",
       "<tr>\n",
       "  <th>ar.L1</th>  <td>   -0.0972</td> <td>    0.556</td> <td>   -0.175</td> <td> 0.861</td> <td>   -1.187</td> <td>    0.993</td>\n",
       "</tr>\n",
       "<tr>\n",
       "  <th>ar.L2</th>  <td>   -0.1211</td> <td>    0.449</td> <td>   -0.270</td> <td> 0.787</td> <td>   -1.001</td> <td>    0.758</td>\n",
       "</tr>\n",
       "<tr>\n",
       "  <th>ar.L3</th>  <td>   -0.1603</td> <td>    0.465</td> <td>   -0.345</td> <td> 0.730</td> <td>   -1.071</td> <td>    0.750</td>\n",
       "</tr>\n",
       "<tr>\n",
       "  <th>ar.L4</th>  <td>    0.1325</td> <td>    0.426</td> <td>    0.311</td> <td> 0.756</td> <td>   -0.702</td> <td>    0.967</td>\n",
       "</tr>\n",
       "<tr>\n",
       "  <th>ar.L5</th>  <td>    0.3433</td> <td>    0.319</td> <td>    1.076</td> <td> 0.282</td> <td>   -0.282</td> <td>    0.968</td>\n",
       "</tr>\n",
       "<tr>\n",
       "  <th>ma.L1</th>  <td>    0.0369</td> <td>    0.554</td> <td>    0.067</td> <td> 0.947</td> <td>   -1.049</td> <td>    1.123</td>\n",
       "</tr>\n",
       "<tr>\n",
       "  <th>ma.L2</th>  <td>   -0.0504</td> <td>    0.470</td> <td>   -0.107</td> <td> 0.915</td> <td>   -0.971</td> <td>    0.870</td>\n",
       "</tr>\n",
       "<tr>\n",
       "  <th>ma.L3</th>  <td>   -0.0566</td> <td>    0.471</td> <td>   -0.120</td> <td> 0.904</td> <td>   -0.979</td> <td>    0.866</td>\n",
       "</tr>\n",
       "<tr>\n",
       "  <th>ma.L4</th>  <td>   -0.2848</td> <td>    0.381</td> <td>   -0.747</td> <td> 0.455</td> <td>   -1.031</td> <td>    0.462</td>\n",
       "</tr>\n",
       "<tr>\n",
       "  <th>ma.L5</th>  <td>   -0.4055</td> <td>    0.348</td> <td>   -1.164</td> <td> 0.244</td> <td>   -1.088</td> <td>    0.277</td>\n",
       "</tr>\n",
       "<tr>\n",
       "  <th>sigma2</th> <td>    0.0151</td> <td>    0.000</td> <td>  103.281</td> <td> 0.000</td> <td>    0.015</td> <td>    0.015</td>\n",
       "</tr>\n",
       "</table>\n",
       "<table class=\"simpletable\">\n",
       "<tr>\n",
       "  <th>Ljung-Box (L1) (Q):</th>     <td>0.50</td> <th>  Jarque-Bera (JB):  </th> <td>24738.30</td>\n",
       "</tr>\n",
       "<tr>\n",
       "  <th>Prob(Q):</th>                <td>0.48</td> <th>  Prob(JB):          </th>   <td>0.00</td>  \n",
       "</tr>\n",
       "<tr>\n",
       "  <th>Heteroskedasticity (H):</th> <td>1.49</td> <th>  Skew:              </th>   <td>0.39</td>  \n",
       "</tr>\n",
       "<tr>\n",
       "  <th>Prob(H) (two-sided):</th>    <td>0.00</td> <th>  Kurtosis:          </th>   <td>15.23</td> \n",
       "</tr>\n",
       "</table><br/><br/>Warnings:<br/>[1] Covariance matrix calculated using the outer product of gradients (complex-step)."
      ],
      "text/latex": [
       "\\begin{center}\n",
       "\\begin{tabular}{lclc}\n",
       "\\toprule\n",
       "\\textbf{Dep. Variable:}          &    SORA diff     & \\textbf{  No. Observations:  } &    3953     \\\\\n",
       "\\textbf{Model:}                  &  ARIMA(5, 0, 5)  & \\textbf{  Log Likelihood     } &  2673.697   \\\\\n",
       "\\textbf{Date:}                   & Wed, 25 Oct 2023 & \\textbf{  AIC                } & -5323.393   \\\\\n",
       "\\textbf{Time:}                   &     11:08:31     & \\textbf{  BIC                } & -5248.006   \\\\\n",
       "\\textbf{Sample:}                 &        0         & \\textbf{  HQIC               } & -5296.654   \\\\\n",
       "\\textbf{}                        &      - 3953      & \\textbf{                     } &             \\\\\n",
       "\\textbf{Covariance Type:}        &       opg        & \\textbf{                     } &             \\\\\n",
       "\\bottomrule\n",
       "\\end{tabular}\n",
       "\\begin{tabular}{lcccccc}\n",
       "                & \\textbf{coef} & \\textbf{std err} & \\textbf{z} & \\textbf{P$> |$z$|$} & \\textbf{[0.025} & \\textbf{0.975]}  \\\\\n",
       "\\midrule\n",
       "\\textbf{const}  &      -0.0004  &        0.001     &    -0.811  &         0.417        &       -0.001    &        0.001     \\\\\n",
       "\\textbf{ar.L1}  &      -0.0972  &        0.556     &    -0.175  &         0.861        &       -1.187    &        0.993     \\\\\n",
       "\\textbf{ar.L2}  &      -0.1211  &        0.449     &    -0.270  &         0.787        &       -1.001    &        0.758     \\\\\n",
       "\\textbf{ar.L3}  &      -0.1603  &        0.465     &    -0.345  &         0.730        &       -1.071    &        0.750     \\\\\n",
       "\\textbf{ar.L4}  &       0.1325  &        0.426     &     0.311  &         0.756        &       -0.702    &        0.967     \\\\\n",
       "\\textbf{ar.L5}  &       0.3433  &        0.319     &     1.076  &         0.282        &       -0.282    &        0.968     \\\\\n",
       "\\textbf{ma.L1}  &       0.0369  &        0.554     &     0.067  &         0.947        &       -1.049    &        1.123     \\\\\n",
       "\\textbf{ma.L2}  &      -0.0504  &        0.470     &    -0.107  &         0.915        &       -0.971    &        0.870     \\\\\n",
       "\\textbf{ma.L3}  &      -0.0566  &        0.471     &    -0.120  &         0.904        &       -0.979    &        0.866     \\\\\n",
       "\\textbf{ma.L4}  &      -0.2848  &        0.381     &    -0.747  &         0.455        &       -1.031    &        0.462     \\\\\n",
       "\\textbf{ma.L5}  &      -0.4055  &        0.348     &    -1.164  &         0.244        &       -1.088    &        0.277     \\\\\n",
       "\\textbf{sigma2} &       0.0151  &        0.000     &   103.281  &         0.000        &        0.015    &        0.015     \\\\\n",
       "\\bottomrule\n",
       "\\end{tabular}\n",
       "\\begin{tabular}{lclc}\n",
       "\\textbf{Ljung-Box (L1) (Q):}     & 0.50 & \\textbf{  Jarque-Bera (JB):  } & 24738.30  \\\\\n",
       "\\textbf{Prob(Q):}                & 0.48 & \\textbf{  Prob(JB):          } &   0.00    \\\\\n",
       "\\textbf{Heteroskedasticity (H):} & 1.49 & \\textbf{  Skew:              } &   0.39    \\\\\n",
       "\\textbf{Prob(H) (two-sided):}    & 0.00 & \\textbf{  Kurtosis:          } &  15.23    \\\\\n",
       "\\bottomrule\n",
       "\\end{tabular}\n",
       "%\\caption{SARIMAX Results}\n",
       "\\end{center}\n",
       "\n",
       "Warnings: \\newline\n",
       " [1] Covariance matrix calculated using the outer product of gradients (complex-step)."
      ],
      "text/plain": [
       "<class 'statsmodels.iolib.summary.Summary'>\n",
       "\"\"\"\n",
       "                               SARIMAX Results                                \n",
       "==============================================================================\n",
       "Dep. Variable:              SORA diff   No. Observations:                 3953\n",
       "Model:                 ARIMA(5, 0, 5)   Log Likelihood                2673.697\n",
       "Date:                Wed, 25 Oct 2023   AIC                          -5323.393\n",
       "Time:                        11:08:31   BIC                          -5248.006\n",
       "Sample:                             0   HQIC                         -5296.654\n",
       "                               - 3953                                         \n",
       "Covariance Type:                  opg                                         \n",
       "==============================================================================\n",
       "                 coef    std err          z      P>|z|      [0.025      0.975]\n",
       "------------------------------------------------------------------------------\n",
       "const         -0.0004      0.001     -0.811      0.417      -0.001       0.001\n",
       "ar.L1         -0.0972      0.556     -0.175      0.861      -1.187       0.993\n",
       "ar.L2         -0.1211      0.449     -0.270      0.787      -1.001       0.758\n",
       "ar.L3         -0.1603      0.465     -0.345      0.730      -1.071       0.750\n",
       "ar.L4          0.1325      0.426      0.311      0.756      -0.702       0.967\n",
       "ar.L5          0.3433      0.319      1.076      0.282      -0.282       0.968\n",
       "ma.L1          0.0369      0.554      0.067      0.947      -1.049       1.123\n",
       "ma.L2         -0.0504      0.470     -0.107      0.915      -0.971       0.870\n",
       "ma.L3         -0.0566      0.471     -0.120      0.904      -0.979       0.866\n",
       "ma.L4         -0.2848      0.381     -0.747      0.455      -1.031       0.462\n",
       "ma.L5         -0.4055      0.348     -1.164      0.244      -1.088       0.277\n",
       "sigma2         0.0151      0.000    103.281      0.000       0.015       0.015\n",
       "===================================================================================\n",
       "Ljung-Box (L1) (Q):                   0.50   Jarque-Bera (JB):             24738.30\n",
       "Prob(Q):                              0.48   Prob(JB):                         0.00\n",
       "Heteroskedasticity (H):               1.49   Skew:                             0.39\n",
       "Prob(H) (two-sided):                  0.00   Kurtosis:                        15.23\n",
       "===================================================================================\n",
       "\n",
       "Warnings:\n",
       "[1] Covariance matrix calculated using the outer product of gradients (complex-step).\n",
       "\"\"\""
      ]
     },
     "execution_count": 10,
     "metadata": {},
     "output_type": "execute_result"
    }
   ],
   "source": [
    "model = ARIMA(train['SORA diff'], order=(5,0,5))\n",
    "model = model.fit()\n",
    "model.summary()"
   ]
  },
  {
   "cell_type": "code",
   "execution_count": 11,
   "id": "5d22bbc5",
   "metadata": {},
   "outputs": [
    {
     "name": "stdout",
     "output_type": "stream",
     "text": [
      "3953    0.012447\n",
      "3954    0.007404\n",
      "3955    0.010406\n",
      "3956    0.017929\n",
      "3957    0.012519\n",
      "          ...   \n",
      "4828   -0.000432\n",
      "4829   -0.000432\n",
      "4830   -0.000432\n",
      "4831   -0.000432\n",
      "4832   -0.000432\n",
      "Name: predicted_mean, Length: 880, dtype: float64\n"
     ]
    },
    {
     "name": "stderr",
     "output_type": "stream",
     "text": [
      "C:\\Users\\chris\\anaconda3\\lib\\site-packages\\statsmodels\\tsa\\statespace\\representation.py:374: FutureWarning: Unknown keyword arguments: dict_keys(['typ']).Passing unknown keyword arguments will raise a TypeError beginning in version 0.15.\n",
      "  warnings.warn(msg, FutureWarning)\n"
     ]
    }
   ],
   "source": [
    "start = len(train)\n",
    "end = len(train)+len(test)-1\n",
    "pred = model.predict(start = start, end = end, typ='levels')\n",
    "pred.index = df.index[-880:]\n",
    "print(pred)"
   ]
  },
  {
   "cell_type": "code",
   "execution_count": 12,
   "id": "4562e484",
   "metadata": {},
   "outputs": [
    {
     "name": "stderr",
     "output_type": "stream",
     "text": [
      "C:\\Users\\chris\\anaconda3\\lib\\site-packages\\statsmodels\\tsa\\statespace\\sarimax.py:966: UserWarning: Non-stationary starting autoregressive parameters found. Using zeros as starting parameters.\n",
      "  warn('Non-stationary starting autoregressive parameters'\n",
      "C:\\Users\\chris\\anaconda3\\lib\\site-packages\\statsmodels\\tsa\\statespace\\sarimax.py:978: UserWarning: Non-invertible starting MA parameters found. Using zeros as starting parameters.\n",
      "  warn('Non-invertible starting MA parameters found.'\n",
      "C:\\Users\\chris\\anaconda3\\lib\\site-packages\\statsmodels\\base\\model.py:607: ConvergenceWarning: Maximum Likelihood optimization failed to converge. Check mle_retvals\n",
      "  warnings.warn(\"Maximum Likelihood optimization failed to \"\n"
     ]
    }
   ],
   "source": [
    "model2 = ARIMA(df['SORA'], order=(5,0,5))\n",
    "model2 = model2.fit()"
   ]
  },
  {
   "cell_type": "code",
   "execution_count": 13,
   "id": "7df20fe2",
   "metadata": {},
   "outputs": [
    {
     "name": "stderr",
     "output_type": "stream",
     "text": [
      "C:\\Users\\chris\\anaconda3\\lib\\site-packages\\statsmodels\\tsa\\statespace\\representation.py:374: FutureWarning: Unknown keyword arguments: dict_keys(['typ']).Passing unknown keyword arguments will raise a TypeError beginning in version 0.15.\n",
      "  warnings.warn(msg, FutureWarning)\n"
     ]
    }
   ],
   "source": [
    "index_future_dates = pd.date_range(start='2023-08-5', end='2025-12-31')\n",
    "pred = model2.predict(start = len(df), end = len(df)+879, typ='levels').rename('SORA Predictions')\n",
    "pred.index = index_future_dates"
   ]
  },
  {
   "cell_type": "code",
   "execution_count": 14,
   "id": "0d605243",
   "metadata": {},
   "outputs": [
    {
     "data": {
      "text/plain": [
       "2023-08-05    1.862180\n",
       "2023-08-06    1.859050\n",
       "2023-08-07    1.855930\n",
       "2023-08-08    1.852822\n",
       "2023-08-09    1.849725\n",
       "                ...   \n",
       "2025-12-27    1.027143\n",
       "2025-12-28    1.027008\n",
       "2025-12-29    1.026874\n",
       "2025-12-30    1.026740\n",
       "2025-12-31    1.026607\n",
       "Freq: D, Name: SORA Predictions, Length: 880, dtype: float64"
      ]
     },
     "execution_count": 14,
     "metadata": {},
     "output_type": "execute_result"
    }
   ],
   "source": [
    "pred"
   ]
  },
  {
   "cell_type": "code",
   "execution_count": 15,
   "id": "26d79ca9",
   "metadata": {
    "scrolled": true
   },
   "outputs": [],
   "source": [
    "df3 = pred.to_frame()"
   ]
  },
  {
   "cell_type": "code",
   "execution_count": 20,
   "id": "3543e464",
   "metadata": {},
   "outputs": [
    {
     "data": {
      "text/plain": [
       "<Axes: >"
      ]
     },
     "execution_count": 20,
     "metadata": {},
     "output_type": "execute_result"
    },
    {
     "data": {
      "image/png": "[encoded data removed]",
      "text/plain": [
       "<Figure size 1200x500 with 1 Axes>"
      ]
     },
     "metadata": {},
     "output_type": "display_data"
    }
   ],
   "source": [
    "pred.plot(figsize=(12,5), legend=True)"
   ]
  },
  {
   "cell_type": "code",
   "execution_count": null,
   "id": "908a7139",
   "metadata": {},
   "outputs": [],
   "source": []
  }
 ],
 "metadata": {
  "kernelspec": {
   "display_name": "Python 3 (ipykernel)",
   "language": "python",
   "name": "python3"
  },
  "language_info": {
   "codemirror_mode": {
    "name": "ipython",
    "version": 3
   },
   "file_extension": ".py",
   "mimetype": "text/x-python",
   "name": "python",
   "nbconvert_exporter": "python",
   "pygments_lexer": "ipython3",
   "version": "3.10.13"
  }
 },
 "nbformat": 4,
 "nbformat_minor": 5
}
